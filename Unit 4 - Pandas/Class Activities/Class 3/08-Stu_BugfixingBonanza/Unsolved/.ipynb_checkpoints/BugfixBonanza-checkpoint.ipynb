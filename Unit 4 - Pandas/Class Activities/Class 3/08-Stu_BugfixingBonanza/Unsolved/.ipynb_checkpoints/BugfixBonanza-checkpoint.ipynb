{
 "cells": [
  {
   "cell_type": "code",
   "execution_count": 1,
   "metadata": {},
   "outputs": [
    {
     "ename": "NameError",
     "evalue": "name 'pd' is not defined",
     "output_type": "error",
     "traceback": [
      "\u001b[1;31m---------------------------------------------------------------------------\u001b[0m",
      "\u001b[1;31mNameError\u001b[0m                                 Traceback (most recent call last)",
      "\u001b[1;32m<ipython-input-1-d9b0e684714b>\u001b[0m in \u001b[0;36m<module>\u001b[1;34m\u001b[0m\n\u001b[0;32m      1\u001b[0m \u001b[1;31m# Create a reference to the CSV and import it into a Pandas DataFrame\u001b[0m\u001b[1;33m\u001b[0m\u001b[1;33m\u001b[0m\u001b[1;33m\u001b[0m\u001b[0m\n\u001b[0;32m      2\u001b[0m \u001b[0mcsv_path\u001b[0m \u001b[1;33m=\u001b[0m \u001b[1;34m\"../Resources/EclipseBugs.csv\"\u001b[0m\u001b[1;33m\u001b[0m\u001b[1;33m\u001b[0m\u001b[0m\n\u001b[1;32m----> 3\u001b[1;33m \u001b[0mpd\u001b[0m\u001b[1;33m.\u001b[0m\u001b[0mread_csv\u001b[0m\u001b[1;33m(\u001b[0m\u001b[0mcsv_path\u001b[0m\u001b[1;33m)\u001b[0m\u001b[1;33m\u001b[0m\u001b[1;33m\u001b[0m\u001b[0m\n\u001b[0m",
      "\u001b[1;31mNameError\u001b[0m: name 'pd' is not defined"
     ]
    }
   ],
   "source": [
    "# Create a reference to the CSV and import it into a Pandas DataFrame\n",
    "csv_path = \"../Resources/EclipseBugs.csv\"\n",
    "pd.read_csv(csv_path)"
   ]
  },
  {
   "cell_type": "code",
   "execution_count": null,
   "metadata": {},
   "outputs": [],
   "source": [
    "# Finding the average number of comments per bug\n",
    "average_comments = eclipse_df[\"Number of Comments\"].mean()\n",
    "average_comments"
   ]
  },
  {
   "cell_type": "code",
   "execution_count": null,
   "metadata": {},
   "outputs": [],
   "source": [
    "# Grouping the DataFrame by \"Assignee\"\n",
    "assignee_group = eclipse_df.groupby(\"Assignee\")\n",
    "\n",
    "# Count how many of each component Assignees worked on and create DataFrame\n",
    "assignee_work_df = pd.DataFrame(assignee_group[\"Component\"].value_counts())\n",
    "assignee_work_df.head()"
   ]
  },
  {
   "cell_type": "code",
   "execution_count": null,
   "metadata": {},
   "outputs": [],
   "source": [
    "# Rename the \"Component\" column to \"Component Bug Count\"\n",
    "assignee_work_df = assignee_work_df.rename(\n",
    "    columns={\"Component\": \"Component Bug Count\"})\n",
    "assignee_work_df.head()"
   ]
  },
  {
   "cell_type": "code",
   "execution_count": null,
   "metadata": {},
   "outputs": [],
   "source": [
    "# Find the percentage of bugs overall fixed by each Assignee\n",
    "total_bugs = assignee_group[\"Assignee\"].count()\n",
    "bugs_per_user = assignee_group[\"Assignee\"].value_counts()\n",
    "\n",
    "user_bug_percent_df = pd.DataFrame((bugs_per_user/total_bugs)*100)\n",
    "user_bug_percent_df.head()"
   ]
  },
  {
   "cell_type": "code",
   "execution_count": null,
   "metadata": {},
   "outputs": [],
   "source": [
    "# Rename the \"Assignee\" column to \"Percent of Total Bugs Assigned\"\n",
    "user_bug_percent_df = user_bug_percent_df.rename(\n",
    "    columns={\"Assignee\": \"Percent of Total Bugs Assigned\"})\n",
    "\n",
    "# Reset the index for this DataFrame so \"Assignee\" is a column\n",
    "user_bug_percent_df = user_bug_percent_df.reset_index()\n",
    "user_bug_percent_df.head()"
   ]
  },
  {
   "cell_type": "code",
   "execution_count": null,
   "metadata": {},
   "outputs": [],
   "source": [
    "# Reset the index of \"assignee_group\" so that \"Assignee\" and \"Component\" are columns\n",
    "assignee_work_df = assignee_work_df.reset_index()"
   ]
  },
  {
   "cell_type": "code",
   "execution_count": null,
   "metadata": {},
   "outputs": [],
   "source": [
    "# Merge the \"Percent of Total Bugs Assigned\" into the DataFrame\n",
    "assignee_work_df = assignee_work_df.merge(user_bug_percent_df, on=\"Component\")\n",
    "assignee_work_df.head()"
   ]
  }
 ],
 "metadata": {
  "kernelspec": {
   "display_name": "Python 3",
   "language": "python",
   "name": "python3"
  },
  "language_info": {
   "codemirror_mode": {
    "name": "ipython",
    "version": 3
   },
   "file_extension": ".py",
   "mimetype": "text/x-python",
   "name": "python",
   "nbconvert_exporter": "python",
   "pygments_lexer": "ipython3",
   "version": "3.7.1"
  }
 },
 "nbformat": 4,
 "nbformat_minor": 2
}
